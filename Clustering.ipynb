{
 "cells": [
  {
   "cell_type": "markdown",
   "metadata": {},
   "source": [
    "# Clustering"
   ]
  },
  {
   "cell_type": "markdown",
   "metadata": {},
   "source": [
    "## Clustering Project 1"
   ]
  },
  {
   "cell_type": "code",
   "execution_count": 9,
   "metadata": {},
   "outputs": [],
   "source": [
    "import pandas as pd\n",
    "df=pd.read_csv(\"D:\\Downloads\\Cereals.csv\")\n",
    "df=df.dropna()\n",
    "x=df[['Calories', 'Protein', 'Fat', 'Fiber', 'Carbo', 'Sodium', 'Sugars', 'Potass',  'Vitamins']]\n",
    "#standardscaler \n",
    "from sklearn.preprocessing import StandardScaler\n",
    "scaler=StandardScaler()\n",
    "x_std=scaler.fit_transform(x)"
   ]
  },
  {
   "cell_type": "code",
   "execution_count": 10,
   "metadata": {},
   "outputs": [
    {
     "name": "stdout",
     "output_type": "stream",
     "text": [
      "[1 0 1 1 0 0 0 0 0 0 0 0 0 0 0 0 0 0 0 0 0 0 0 0 0 0 0 0 0 0 0 0 0 0 0 0 0\n",
      " 0 0 0 0 0 0 0 0 0 0 0 0 0 0 0 0 0 0 0 0 0 0 0 0 0 0 0 0 0 0 0 0 0 0 0 0 0]\n"
     ]
    }
   ],
   "source": [
    "#agglomerative Clustering\n",
    "from sklearn.cluster import AgglomerativeClustering\n",
    "cluster=AgglomerativeClustering(n_clusters=2, affinity='euclidean',linkage='complete')\n",
    "cluster.fit_predict(x_std)\n",
    "print(cluster.labels_)\n"
   ]
  },
  {
   "cell_type": "code",
   "execution_count": 11,
   "metadata": {},
   "outputs": [],
   "source": [
    "count=0\n",
    "count1=0\n",
    "for i in cluster.labels_:\n",
    "    if i==0:\n",
    "        count=count+1\n",
    "    else:\n",
    "        count1=count1+1\n",
    "\n",
    " \n",
    "\n"
   ]
  },
  {
   "cell_type": "code",
   "execution_count": 12,
   "metadata": {},
   "outputs": [],
   "source": [
    "\n",
    "#KMeans method       \n",
    "from sklearn.cluster import KMeans\n",
    "kmeans=KMeans(random_state=4,n_clusters=2)\n",
    "model=kmeans.fit(x_std)\n",
    "labels=model.predict(x_std)\n",
    "\n",
    "count_1=0\n",
    "count_2=0\n",
    "for i in labels:\n",
    "    if i==0:\n",
    "        count_1=count_1+1\n",
    "    else:\n",
    "        count_2=count_2+1\n",
    "        \n",
    "  \n",
    "cluster1=kmeans.cluster_centers_[0]\n",
    "\n",
    "\n",
    "cluster2=kmeans.cluster_centers_[1]\n",
    "\n",
    "\n"
   ]
  },
  {
   "cell_type": "code",
   "execution_count": 16,
   "metadata": {},
   "outputs": [
    {
     "name": "stdout",
     "output_type": "stream",
     "text": [
      "Agglomerative clustering First Cluster 71\n",
      "Agglomerative clustering First Cluster 3\n",
      "K means First Cluster 51\n",
      "K means First Cluster 23\n"
     ]
    }
   ],
   "source": [
    "print('Agglomerative clustering','First Cluster',count)\n",
    "print('Agglomerative clustering','First Cluster',count1)\n",
    "print('K means','First Cluster',count_1)\n",
    "print('K means','First Cluster',count_2)"
   ]
  },
  {
   "cell_type": "markdown",
   "metadata": {},
   "source": [
    "## Clustering Project 2"
   ]
  },
  {
   "cell_type": "markdown",
   "metadata": {},
   "source": [
    "### Part 1"
   ]
  },
  {
   "cell_type": "code",
   "execution_count": 17,
   "metadata": {},
   "outputs": [
    {
     "name": "stdout",
     "output_type": "stream",
     "text": [
      "***** New Data Set *****\n",
      "   Balance  Qual_miles  cc1_miles  cc2_miles  cc3_miles  Bonus_miles  \\\n",
      "0    28143           0          1          1          1          174   \n",
      "1    19244           0          1          1          1          215   \n",
      "2    41354           0          1          1          1         4123   \n",
      "3    14776           0          1          1          1          500   \n",
      "4    97752           0          4          1          1        43300   \n",
      "\n",
      "   Bonus_trans  Flight_miles_12mo  Flight_trans_12  Days_since_enroll  \n",
      "0            1                  0                0               7000  \n",
      "1            2                  0                0               6968  \n",
      "2            4                  0                0               7034  \n",
      "3            1                  0                0               6952  \n",
      "4           26               2077                4               6935  \n",
      "\n"
     ]
    }
   ],
   "source": [
    "import pandas as pd\n",
    "import numpy as np\n",
    "from sklearn.cluster import KMeans\n",
    "from sklearn.preprocessing import LabelEncoder\n",
    "\n",
    "#read data into data frame, data\n",
    "data = pd.read_csv(r'C:\\Users\\hisha\\Desktop\\Certfication\\EastWestAirlinesCluster.csv')\n",
    "\n",
    "# Fill missing values with mean column values in the data set\n",
    "data.fillna(data.mean(), inplace=True)\n",
    "\n",
    "#drop the columns that we don't need!\n",
    "data = data.drop(['ID#','Award?'], axis=1)\n",
    "\n",
    "\n",
    "print(\"***** New Data Set *****\")\n",
    "print(data.head())\n",
    "print(\"\")"
   ]
  },
  {
   "cell_type": "code",
   "execution_count": 18,
   "metadata": {},
   "outputs": [
    {
     "name": "stdout",
     "output_type": "stream",
     "text": [
      "*****Cluster Analysis*****\n",
      "['Balance' 'Qual_miles' 'cc1_miles' 'cc2_miles' 'cc3_miles' 'Bonus_miles'\n",
      " 'Bonus_trans' 'Flight_miles_12mo' 'Flight_trans_12' 'Days_since_enroll']\n",
      "[[  19458.88      90.2        1.36       1.02       1.      5919.38\n",
      "        7.59     207.23       0.66    3600.9 ]\n",
      " [ 222080.24     309.48       2.92       1.         1.     34623.41\n",
      "       18.08    1086.89       3.12    5110.36]\n",
      " [ 728360.05     258.64       3.5        1.         1.14   62470.82\n",
      "       22.      1600.91       5.73    6189.68]\n",
      " [ 126765.44     227.37       3.03       1.01       1.04   32853.53\n",
      "       16.59     786.57       2.3     4728.25]\n",
      " [ 397989.51     451.18       3.18       1.04       1.     48785.76\n",
      "       19.3     1560.87       4.78    5879.01]\n",
      " [1288915.8     1528.         3.         1.         1.     39098.\n",
      "       24.6     2754.6       11.4     7821.6 ]\n",
      " [  63887.34     125.15       2.47       1.01       1.02   21346.18\n",
      "       13.75     473.88       1.36    4295.49]]\n",
      "\n"
     ]
    }
   ],
   "source": [
    "print(\"*****Cluster Analysis*****\")\n",
    "kmeans = KMeans(n_clusters=7).fit(data)\n",
    "\n",
    "#save the centroid for each cluster\n",
    "centroids = kmeans.cluster_centers_\n",
    "\n",
    "#if you don't do this, your centroid values will be in scientific notation\n",
    "np.set_printoptions(precision=2,suppress=True)\n",
    "\n",
    "#Print your centroid for each cluster\n",
    "print(data.columns.values)\n",
    "print(centroids)\n",
    "print()"
   ]
  },
  {
   "cell_type": "code",
   "execution_count": 19,
   "metadata": {},
   "outputs": [
    {
     "name": "stdout",
     "output_type": "stream",
     "text": [
      "            len\n",
      "        Balance\n",
      "Cluster        \n",
      "0          1962\n",
      "1           258\n",
      "2            22\n",
      "3           587\n",
      "4            82\n",
      "5             5\n",
      "6          1083\n",
      "                 mean\n",
      "              Balance\n",
      "Cluster              \n",
      "0        1.948167e+04\n",
      "1        2.220802e+05\n",
      "2        7.283600e+05\n",
      "3        1.268124e+05\n",
      "4        3.979895e+05\n",
      "5        1.288916e+06\n",
      "6        6.396074e+04\n",
      "\n",
      "\n"
     ]
    }
   ],
   "source": [
    "\n",
    "#add new column to data frame to add the cluster label to each row\n",
    "data['Cluster'] = kmeans.labels_\n",
    "\n",
    "print(pd.pivot_table(data,index=[\"Cluster\"],values=[\"Balance\"],aggfunc=[len]))\n",
    "print(pd.pivot_table(data,index=[\"Cluster\"],values=[\"Balance\"],aggfunc=[np.mean]))\n",
    "print()\n",
    "print()\n",
    "\n",
    "#copy output to Excel file named output.xlsx\n",
    "writer = pd.ExcelWriter('output.xlsx')\n",
    "data.to_excel(writer,index=False)\n",
    "writer.save()"
   ]
  },
  {
   "cell_type": "markdown",
   "metadata": {},
   "source": [
    "### Part 2"
   ]
  },
  {
   "cell_type": "code",
   "execution_count": 20,
   "metadata": {},
   "outputs": [
    {
     "name": "stdout",
     "output_type": "stream",
     "text": [
      "***** New Data Set *****\n",
      "   Balance  Qual_miles  cc1_miles  cc2_miles  cc3_miles  Bonus_miles  \\\n",
      "0    28143           0          1          1          1          174   \n",
      "1    19244           0          1          1          1          215   \n",
      "2    41354           0          1          1          1         4123   \n",
      "3    14776           0          1          1          1          500   \n",
      "4    97752           0          4          1          1        43300   \n",
      "\n",
      "   Flight_miles_12mo  Flight_trans_12  \n",
      "0                  0                0  \n",
      "1                  0                0  \n",
      "2                  0                0  \n",
      "3                  0                0  \n",
      "4               2077                4  \n",
      "\n"
     ]
    }
   ],
   "source": [
    "\n",
    "import pandas as pd\n",
    "import numpy as np\n",
    "from sklearn.cluster import KMeans\n",
    "from sklearn.preprocessing import LabelEncoder\n",
    "\n",
    "#read data into data frame, data\n",
    "data = pd.read_csv(r'C:\\Users\\hisha\\Desktop\\Certfication\\EastWestAirlinesCluster.csv')\n",
    "\n",
    "# Fill missing values with mean column values in the data set\n",
    "data.fillna(data.mean(), inplace=True)\n",
    "\n",
    "#drop the columns that we don't need!\n",
    "data = data.drop(['ID#','Award?','Days_since_enroll','Bonus_trans'], axis=1)\n",
    "\n",
    "\n",
    "print(\"***** New Data Set *****\")\n",
    "print(data.head())\n",
    "print(\"\")"
   ]
  },
  {
   "cell_type": "code",
   "execution_count": 21,
   "metadata": {},
   "outputs": [
    {
     "name": "stdout",
     "output_type": "stream",
     "text": [
      "*****Cluster Analysis*****\n",
      "['Balance' 'Qual_miles' 'cc1_miles' 'cc2_miles' 'cc3_miles' 'Bonus_miles'\n",
      " 'Flight_miles_12mo' 'Flight_trans_12']\n",
      "[[ 26327.93    100.61      1.56      1.02      1.     8699.34    262.15\n",
      "       0.81]\n",
      " [419966.51    449.97      3.26      1.03      1.    49823.33   1598.38\n",
      "       5.03]\n",
      " [ 98491.52    161.38      2.83      1.01      1.03  27974.81    625.3\n",
      "       1.82]\n",
      " [922162.53    564.74      3.21      1.        1.16  58492.05   1607.53\n",
      "       6.26]\n",
      " [208494.03    308.92      3.01      1.01      1.01  35398.11   1052.47\n",
      "       2.94]]\n",
      "\n"
     ]
    }
   ],
   "source": [
    "\n",
    "print(\"*****Cluster Analysis*****\")\n",
    "kmeans = KMeans(n_clusters=5).fit(data)\n",
    "\n",
    "#save the centroid for each cluster\n",
    "centroids = kmeans.cluster_centers_\n",
    "\n",
    "#if you don't do this, your centroid values will be in scientific notation\n",
    "np.set_printoptions(precision=2,suppress=True)\n",
    "\n",
    "#Print your centroid for each cluster\n",
    "print(data.columns.values)\n",
    "print(centroids)\n",
    "print()\n"
   ]
  },
  {
   "cell_type": "code",
   "execution_count": 22,
   "metadata": {},
   "outputs": [
    {
     "name": "stdout",
     "output_type": "stream",
     "text": [
      "            len\n",
      "        Balance\n",
      "Cluster        \n",
      "0          2505\n",
      "1            88\n",
      "2          1045\n",
      "3            19\n",
      "4           342\n",
      "                  mean\n",
      "               Balance\n",
      "Cluster               \n",
      "0         26283.690220\n",
      "1        419966.511364\n",
      "2         98341.150239\n",
      "3        922162.526316\n",
      "4        208322.871345\n",
      "\n",
      "\n"
     ]
    }
   ],
   "source": [
    "#add new column to data frame to add the cluster label to each row\n",
    "data['Cluster'] = kmeans.labels_\n",
    "\n",
    "print(pd.pivot_table(data,index=[\"Cluster\"],values=[\"Balance\"],aggfunc=[len]))\n",
    "print(pd.pivot_table(data,index=[\"Cluster\"],values=[\"Balance\"],aggfunc=[np.mean]))\n",
    "print()\n",
    "print()\n",
    "\n",
    "#copy output to Excel file named output.xlsx\n",
    "writer = pd.ExcelWriter('output.xlsx')\n",
    "data.to_excel(writer,index=False)\n",
    "writer.save()\n"
   ]
  }
 ],
 "metadata": {
  "kernelspec": {
   "display_name": "Python 3",
   "language": "python",
   "name": "python3"
  },
  "language_info": {
   "codemirror_mode": {
    "name": "ipython",
    "version": 3
   },
   "file_extension": ".py",
   "mimetype": "text/x-python",
   "name": "python",
   "nbconvert_exporter": "python",
   "pygments_lexer": "ipython3",
   "version": "3.7.4"
  }
 },
 "nbformat": 4,
 "nbformat_minor": 2
}
